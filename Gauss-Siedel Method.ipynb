{
 "cells": [
  {
   "cell_type": "markdown",
   "id": "a64c4cde",
   "metadata": {},
   "source": [
    "# Gauss-Seidel Method\n",
    "## An iterative approach to solve a system of linear equations AX = B\n",
    "\n",
    "### NOTE: \n",
    "#####           1. The diagonal elements of A must be non-zero\n",
    "#####            2. The convergence to the true solution is guaranteed when the matrix A is either strictly diagonally dominant or   symmetric and positive definite."
   ]
  },
  {
   "cell_type": "code",
   "execution_count": 2,
   "id": "3101d01f",
   "metadata": {},
   "outputs": [],
   "source": [
    "import numpy as np #using numpy library for working  with arrays"
   ]
  },
  {
   "cell_type": "code",
   "execution_count": 4,
   "id": "efe4d9fa",
   "metadata": {},
   "outputs": [
    {
     "name": "stdout",
     "output_type": "stream",
     "text": [
      "\n",
      "Enter the number of unknowns: 2\n"
     ]
    }
   ],
   "source": [
    "n = int(input(\"\\nEnter the number of unknowns: \")) #taking input from the user for no. of unknowns, i.e., the value of n\n",
    "a = 1\n",
    "\n",
    "A = np.zeros((n,n)) #initialize a matrix A of order (n x n)\n",
    "B = np.zeros((n,a)) #initialize a column matrix B of order (n x 1)\n",
    "\n",
    "X = np.zeros((n,a)) #initialize a solution vector"
   ]
  },
  {
   "cell_type": "markdown",
   "id": "691d6732",
   "metadata": {},
   "source": [
    "###### Taking input from the user for matrix A"
   ]
  },
  {
   "cell_type": "code",
   "execution_count": 5,
   "id": "c9da1ebc",
   "metadata": {},
   "outputs": [
    {
     "name": "stdout",
     "output_type": "stream",
     "text": [
      "\n",
      "Enter the elements of matrix A: \n",
      "A[1][1] = 1\n",
      "A[1][2] = -5\n",
      "A[2][1] = 7\n",
      "A[2][2] = 1\n",
      "\n",
      "The matrix [A] = \n",
      "1.0 -5.0 \n",
      "7.0 1.0 \n"
     ]
    }
   ],
   "source": [
    "print(\"\\nEnter the elements of matrix A: \")\n",
    "\n",
    "for i in range(n):\n",
    "    for j in range(n):\n",
    "        A[i][j] = float(input( \"A[\"+str(i+1)+']['+str(j+1)+\"] = \"))\n",
    "\n",
    "\n",
    "print(\"\\nThe matrix [A] = \")\n",
    "                        \n",
    "for i in range(n):\n",
    "    for j in range(n):\n",
    "        print( A[i][j], end=\" \")\n",
    "    print()\n"
   ]
  },
  {
   "cell_type": "markdown",
   "id": "3bc1fe41",
   "metadata": {},
   "source": [
    "###### Taking input from the user for column matrix B"
   ]
  },
  {
   "cell_type": "code",
   "execution_count": 6,
   "id": "c63f5433",
   "metadata": {},
   "outputs": [
    {
     "name": "stdout",
     "output_type": "stream",
     "text": [
      "\n",
      "Enter elements of the matrix B: \n",
      "B[1][1] = -4\n",
      "B[2][1] = 6\n",
      "\n",
      "The matrix [B] = \n",
      "-4.0 \n",
      "6.0 \n"
     ]
    }
   ],
   "source": [
    "print(\"\\nEnter elements of the matrix B: \")\n",
    "\n",
    "for i in range(n):\n",
    "    for j in range(a):\n",
    "        B[i][j] = float(input( \"B[\"+str(i+1)+']['+str(1)+\"] = \"))\n",
    "\n",
    "print(\"\\nThe matrix [B] = \")\n",
    "\n",
    "for i in range(n):\n",
    "    for j in range(a):\n",
    "        print( B[i][j], end=\" \")\n",
    "    print()"
   ]
  },
  {
   "cell_type": "markdown",
   "id": "210a54ef",
   "metadata": {},
   "source": [
    "<span style=\"color: red;\">At first, we need to investigate whether the matrix A is diagonally dominant or not, in order to show if the 'X' vector is converging to the actual solution.</span>\n",
    " "
   ]
  },
  {
   "cell_type": "code",
   "execution_count": 8,
   "id": "39a54e46",
   "metadata": {},
   "outputs": [
    {
     "name": "stdout",
     "output_type": "stream",
     "text": [
      "\n",
      "A is not a diagonally dominant matrix.\n"
     ]
    }
   ],
   "source": [
    "flag = 1\n",
    "\n",
    "for i in range(n):\n",
    "    s=0 #initializing the sum of elements of rows excluding the diagonal row element\n",
    "    for j in range(n):\n",
    "        if (i!=j):\n",
    "            s=s+ abs(A[i][j]) #adding elements to the sum\n",
    "            \n",
    "    q = s - abs(A[i][i])  #defining variable to compute the difference between the sum of row elements and the diagonal element\n",
    "    if q>0:\n",
    "        flag = 0\n",
    "\n",
    "if (flag == 0): print (\"\\nA is not a diagonally dominant matrix.\")\n",
    "\n",
    "else: print(\"\\nA is a diagonally dominant matrix.\")"
   ]
  },
  {
   "cell_type": "markdown",
   "id": "514bd185",
   "metadata": {},
   "source": [
    "#### Implementation of the iterative technique"
   ]
  },
  {
   "cell_type": "code",
   "execution_count": 10,
   "id": "122b0936",
   "metadata": {},
   "outputs": [
    {
     "name": "stdout",
     "output_type": "stream",
     "text": [
      "\n",
      "The vector after each iteration is given as follows: \n",
      "\n",
      "\n",
      " Iteration No.1 :\n",
      " [[ 2.48019966e+08]\n",
      " [-1.73613976e+09]]\n",
      "\n",
      "\n",
      " Iteration No.2 :\n",
      " [[-8.68069878e+09]\n",
      " [ 6.07648915e+10]]\n",
      "\n",
      "\n",
      " Iteration No.3 :\n",
      " [[ 3.03824457e+11]\n",
      " [-2.12677120e+12]]\n",
      "\n",
      "\n",
      " Iteration No.4 :\n",
      " [[-1.06338560e+13]\n",
      " [ 7.44369921e+13]]\n",
      "\n",
      "\n",
      " Iteration No.5 :\n",
      " [[ 3.72184960e+14]\n",
      " [-2.60529472e+15]]\n",
      "\n",
      "\n",
      " Iteration No.6 :\n",
      " [[-1.30264736e+16]\n",
      " [ 9.11853153e+16]]\n",
      "\n",
      "\n",
      " Iteration No.7 :\n",
      " [[ 4.55926576e+17]\n",
      " [-3.19148604e+18]]\n",
      "\n",
      "\n",
      " Iteration No.8 :\n",
      " [[-1.59574302e+19]\n",
      " [ 1.11702011e+20]]\n",
      "\n",
      "\n",
      " Iteration No.9 :\n",
      " [[ 5.58510056e+20]\n",
      " [-3.90957039e+21]]\n",
      "\n",
      "\n",
      " Iteration No.10 :\n",
      " [[-1.95478520e+22]\n",
      " [ 1.36834964e+23]]\n",
      "\n",
      "\n",
      "The vector X will then diverge from the actual solution.\n"
     ]
    }
   ],
   "source": [
    "print(\"\\nThe vector after each iteration is given as follows: \")\n",
    "\n",
    "# After investigation, we implement this iterative technique as follows:\n",
    "for alpha in range(10):  #iteration range\n",
    "    for i in range(n):\n",
    "    \n",
    "        for k in range(a):\n",
    "            X[i][k] = B[i][k] #equating the corresponding elements of X and B\n",
    "        for j in range(n):\n",
    "            if ( i != j ):\n",
    "                X[i][a-1] = X[i][a-1] - X[j][a-1]*A[i][j] #using the expression of X(k+1)\n",
    "                            \n",
    "        X[i][0] /= A[i][i] #divide by A(i,i)\n",
    "        X[i][0] = round(X[i][0], 6)\n",
    "\n",
    "    print(\"\\n\\n\",'Iteration No.'+str(alpha+1),\":\\n\", X)\n",
    "\n",
    "if (flag==1): print('The vector X will eventually converge to the actual solution.')\n",
    "else: print('\\n\\nThe vector X will then diverge from the actual solution.')"
   ]
  },
  {
   "cell_type": "code",
   "execution_count": null,
   "id": "8c57df48",
   "metadata": {},
   "outputs": [],
   "source": []
  }
 ],
 "metadata": {
  "kernelspec": {
   "display_name": "Python 3 (ipykernel)",
   "language": "python",
   "name": "python3"
  },
  "language_info": {
   "codemirror_mode": {
    "name": "ipython",
    "version": 3
   },
   "file_extension": ".py",
   "mimetype": "text/x-python",
   "name": "python",
   "nbconvert_exporter": "python",
   "pygments_lexer": "ipython3",
   "version": "3.10.0"
  }
 },
 "nbformat": 4,
 "nbformat_minor": 5
}
